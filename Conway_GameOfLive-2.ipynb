{
 "cells": [
  {
   "cell_type": "code",
   "execution_count": 95,
   "metadata": {},
   "outputs": [],
   "source": [
    "# 1 live\n",
    "# 0 dead\n",
    "\n",
    "size = 10\n",
    "\n",
    "cell = 0 \n",
    "def make_board(size):\n",
    "    line = [int(cell) for _ in range(size)]\n",
    "    grid = [list(line) for _ in range(size)]\n",
    "    return grid\n",
    "\n",
    "grid = make_board(size)\n",
    "# live cell\n",
    "grid[5][5] = 1\n",
    "grid[5][6] = 1\n",
    "grid[5][7] = 1\n"
   ]
  },
  {
   "cell_type": "code",
   "execution_count": 80,
   "metadata": {},
   "outputs": [
    {
     "data": {
      "text/plain": [
       "0"
      ]
     },
     "execution_count": 80,
     "metadata": {},
     "output_type": "execute_result"
    }
   ],
   "source": [
    "def counter(grid, cords):\n",
    "    total = 0\n",
    "    for c in cords:\n",
    "        row, col = c\n",
    "        total += grid[row][col]\n",
    "    return total\n",
    "    \n",
    "\n",
    "def rules(cell: int, total: int) -> int:\n",
    "    # dead cell and adj 3 live cells  -> live cell\n",
    "    if type(cell) != int:\n",
    "        print(\"not a valid cell\")\n",
    "    if cell == 0 and total == 3:\n",
    "        return 1\n",
    "    # live cell with 2 or 3 adj live cells -> live cell\n",
    "    elif cell == 1 and total in (2, 3):\n",
    "        return 1\n",
    "    # dead cell\n",
    "    else:\n",
    "        return 0\n",
    "        \n",
    "    \n",
    "def relevant_coordinates(row, col):\n",
    "    shift =  [[(-1, -1), (-1, 0), (-1, 1)],\n",
    "              [(0, -1), (0, 0), (0, 1)],\n",
    "              [ (1, -1), (1, 0), (1, 1)]]\n",
    "    cords = []\n",
    "    for r in shift:\n",
    "        for c in r:\n",
    "            new_row = (row + c[0]) % size\n",
    "            new_col = (col + c[1]) % size                  \n",
    "            cords.append((new_row, new_col))\n",
    "    cords.remove((row, col))\n",
    "    return cords\n",
    "\n",
    "cell_cords = (2, 2)\n",
    "row, col = cell_cords\n",
    "cell_value = grid[row][col]\n",
    "cords = relevant_coordinates(*cell_cords)\n",
    "total = counter(grid, cords)\n",
    "rules(cell_value, total)"
   ]
  },
  {
   "cell_type": "code",
   "execution_count": 97,
   "metadata": {},
   "outputs": [
    {
     "data": {
      "text/plain": [
       "{(0, 0): 0,\n",
       " (0, 1): 0,\n",
       " (0, 2): 0,\n",
       " (0, 3): 0,\n",
       " (0, 4): 0,\n",
       " (0, 5): 0,\n",
       " (0, 6): 0,\n",
       " (0, 7): 0,\n",
       " (0, 8): 0,\n",
       " (0, 9): 0,\n",
       " (1, 0): 0,\n",
       " (1, 1): 0,\n",
       " (1, 2): 0,\n",
       " (1, 3): 0,\n",
       " (1, 4): 0,\n",
       " (1, 5): 0,\n",
       " (1, 6): 0,\n",
       " (1, 7): 0,\n",
       " (1, 8): 0,\n",
       " (1, 9): 0,\n",
       " (2, 0): 0,\n",
       " (2, 1): 0,\n",
       " (2, 2): 0,\n",
       " (2, 3): 0,\n",
       " (2, 4): 0,\n",
       " (2, 5): 0,\n",
       " (2, 6): 0,\n",
       " (2, 7): 0,\n",
       " (2, 8): 0,\n",
       " (2, 9): 0,\n",
       " (3, 0): 0,\n",
       " (3, 1): 0,\n",
       " (3, 2): 0,\n",
       " (3, 3): 0,\n",
       " (3, 4): 0,\n",
       " (3, 5): 0,\n",
       " (3, 6): 0,\n",
       " (3, 7): 0,\n",
       " (3, 8): 0,\n",
       " (3, 9): 0,\n",
       " (4, 0): 0,\n",
       " (4, 1): 0,\n",
       " (4, 2): 0,\n",
       " (4, 3): 0,\n",
       " (4, 4): 0,\n",
       " (4, 5): 0,\n",
       " (4, 6): 1,\n",
       " (4, 7): 0,\n",
       " (4, 8): 0,\n",
       " (4, 9): 0,\n",
       " (5, 0): 0,\n",
       " (5, 1): 0,\n",
       " (5, 2): 0,\n",
       " (5, 3): 0,\n",
       " (5, 4): 0,\n",
       " (5, 5): 0,\n",
       " (5, 6): 1,\n",
       " (5, 7): 0,\n",
       " (5, 8): 0,\n",
       " (5, 9): 0,\n",
       " (6, 0): 0,\n",
       " (6, 1): 0,\n",
       " (6, 2): 0,\n",
       " (6, 3): 0,\n",
       " (6, 4): 0,\n",
       " (6, 5): 0,\n",
       " (6, 6): 1,\n",
       " (6, 7): 0,\n",
       " (6, 8): 0,\n",
       " (6, 9): 0,\n",
       " (7, 0): 0,\n",
       " (7, 1): 0,\n",
       " (7, 2): 0,\n",
       " (7, 3): 0,\n",
       " (7, 4): 0,\n",
       " (7, 5): 0,\n",
       " (7, 6): 0,\n",
       " (7, 7): 0,\n",
       " (7, 8): 0,\n",
       " (7, 9): 0,\n",
       " (8, 0): 0,\n",
       " (8, 1): 0,\n",
       " (8, 2): 0,\n",
       " (8, 3): 0,\n",
       " (8, 4): 0,\n",
       " (8, 5): 0,\n",
       " (8, 6): 0,\n",
       " (8, 7): 0,\n",
       " (8, 8): 0,\n",
       " (8, 9): 0,\n",
       " (9, 0): 0,\n",
       " (9, 1): 0,\n",
       " (9, 2): 0,\n",
       " (9, 3): 0,\n",
       " (9, 4): 0,\n",
       " (9, 5): 0,\n",
       " (9, 6): 0,\n",
       " (9, 7): 0,\n",
       " (9, 8): 0,\n",
       " (9, 9): 0}"
      ]
     },
     "execution_count": 97,
     "metadata": {},
     "output_type": "execute_result"
    }
   ],
   "source": [
    "all_cells = {}\n",
    "for i, r in enumerate(grid):\n",
    "    for j, c in enumerate(r):\n",
    "        all_cells[(i, j)] = c\n",
    "        \n",
    "new_cells = {}\n",
    "for k, v in all_cells.items():\n",
    "#     print(f'k is {k}')\n",
    "    cords = relevant_coordinates(*k)\n",
    "#     print(f'cords are {cords}')\n",
    "    t = counter(grid, cords)\n",
    "    status = rules(v, t)\n",
    "    new_cells[k] = status\n",
    "#     print(status)\n",
    "new_cells"
   ]
  },
  {
   "cell_type": "code",
   "execution_count": 98,
   "metadata": {},
   "outputs": [
    {
     "name": "stdout",
     "output_type": "stream",
     "text": [
      "[0, 0, 0, 0, 0, 0, 0, 0, 0, 0]\n",
      "[0, 0, 0, 0, 0, 0, 0, 0, 0, 0]\n",
      "[0, 0, 0, 0, 0, 0, 0, 0, 0, 0]\n",
      "[0, 0, 0, 0, 0, 0, 0, 0, 0, 0]\n",
      "[0, 0, 0, 0, 0, 0, 1, 0, 0, 0]\n",
      "[0, 0, 0, 0, 0, 0, 1, 0, 0, 0]\n",
      "[0, 0, 0, 0, 0, 0, 1, 0, 0, 0]\n",
      "[0, 0, 0, 0, 0, 0, 0, 0, 0, 0]\n",
      "[0, 0, 0, 0, 0, 0, 0, 0, 0, 0]\n",
      "[0, 0, 0, 0, 0, 0, 0, 0, 0, 0]\n"
     ]
    }
   ],
   "source": [
    "new_board = make_board(size)\n",
    "for k, v in new_cells.items():\n",
    "    row, col = k\n",
    "    new_board[row][col] = v\n",
    "for r in new_board:\n",
    "    print(r)"
   ]
  },
  {
   "cell_type": "code",
   "execution_count": 96,
   "metadata": {},
   "outputs": [
    {
     "name": "stdout",
     "output_type": "stream",
     "text": [
      "[0, 0, 0, 0, 0, 0, 0, 0, 0, 0]\n",
      "[0, 0, 0, 0, 0, 0, 0, 0, 0, 0]\n",
      "[0, 0, 0, 0, 0, 0, 0, 0, 0, 0]\n",
      "[0, 0, 0, 0, 0, 0, 0, 0, 0, 0]\n",
      "[0, 0, 0, 0, 0, 0, 0, 0, 0, 0]\n",
      "[0, 0, 0, 0, 0, 1, 1, 1, 0, 0]\n",
      "[0, 0, 0, 0, 0, 0, 0, 0, 0, 0]\n",
      "[0, 0, 0, 0, 0, 0, 0, 0, 0, 0]\n",
      "[0, 0, 0, 0, 0, 0, 0, 0, 0, 0]\n",
      "[0, 0, 0, 0, 0, 0, 0, 0, 0, 0]\n"
     ]
    }
   ],
   "source": [
    "for r in grid:\n",
    "    print(r)"
   ]
  },
  {
   "cell_type": "code",
   "execution_count": null,
   "metadata": {},
   "outputs": [],
   "source": []
  },
  {
   "cell_type": "code",
   "execution_count": null,
   "metadata": {},
   "outputs": [],
   "source": []
  },
  {
   "cell_type": "code",
   "execution_count": null,
   "metadata": {},
   "outputs": [],
   "source": []
  }
 ],
 "metadata": {
  "kernelspec": {
   "display_name": "Python 3",
   "language": "python",
   "name": "python3"
  },
  "language_info": {
   "codemirror_mode": {
    "name": "ipython",
    "version": 3
   },
   "file_extension": ".py",
   "mimetype": "text/x-python",
   "name": "python",
   "nbconvert_exporter": "python",
   "pygments_lexer": "ipython3",
   "version": "3.7.3"
  }
 },
 "nbformat": 4,
 "nbformat_minor": 2
}
